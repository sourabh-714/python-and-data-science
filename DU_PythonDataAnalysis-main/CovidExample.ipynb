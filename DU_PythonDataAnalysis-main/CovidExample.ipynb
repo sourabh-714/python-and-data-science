{
 "cells": [
  {
   "cell_type": "code",
   "execution_count": 1,
   "metadata": {},
   "outputs": [],
   "source": [
    "import urllib.request as url\n",
    "import json"
   ]
  },
  {
   "cell_type": "code",
   "execution_count": 2,
   "metadata": {},
   "outputs": [
    {
     "data": {
      "text/plain": [
       "<http.client.HTTPResponse at 0x246deec5c70>"
      ]
     },
     "execution_count": 2,
     "metadata": {},
     "output_type": "execute_result"
    }
   ],
   "source": [
    "# making http request\n",
    "url.urlopen(\"https://api.covid19india.org/states_daily.json\")\n",
    "# in return we will get response"
   ]
  },
  {
   "cell_type": "code",
   "execution_count": 3,
   "metadata": {},
   "outputs": [],
   "source": [
    "response = url.urlopen(\"https://api.covid19india.org/states_daily.json\")"
   ]
  },
  {
   "cell_type": "code",
   "execution_count": 4,
   "metadata": {},
   "outputs": [],
   "source": [
    "# response - object of HTTPResponse"
   ]
  },
  {
   "cell_type": "code",
   "execution_count": 6,
   "metadata": {},
   "outputs": [
    {
     "data": {
      "text/plain": [
       "<http.client.HTTPResponse at 0x246ddad44f0>"
      ]
     },
     "execution_count": 6,
     "metadata": {},
     "output_type": "execute_result"
    }
   ],
   "source": [
    "url.urlopen(\"https://www.imdb.com/\")"
   ]
  },
  {
   "cell_type": "code",
   "execution_count": 7,
   "metadata": {},
   "outputs": [],
   "source": [
    "# it will convert JSON to dictionary\n",
    "data = json.load(response)"
   ]
  },
  {
   "cell_type": "code",
   "execution_count": 8,
   "metadata": {},
   "outputs": [
    {
     "data": {
      "text/plain": [
       "dict"
      ]
     },
     "execution_count": 8,
     "metadata": {},
     "output_type": "execute_result"
    }
   ],
   "source": [
    "type(data)"
   ]
  },
  {
   "cell_type": "code",
   "execution_count": 9,
   "metadata": {},
   "outputs": [
    {
     "data": {
      "text/plain": [
       "dict_keys(['states_daily'])"
      ]
     },
     "execution_count": 9,
     "metadata": {},
     "output_type": "execute_result"
    }
   ],
   "source": [
    "data.keys()"
   ]
  },
  {
   "cell_type": "code",
   "execution_count": 10,
   "metadata": {},
   "outputs": [],
   "source": [
    "states = data['states_daily']"
   ]
  },
  {
   "cell_type": "code",
   "execution_count": 11,
   "metadata": {},
   "outputs": [
    {
     "data": {
      "text/plain": [
       "1407"
      ]
     },
     "execution_count": 11,
     "metadata": {},
     "output_type": "execute_result"
    }
   ],
   "source": [
    "len(states)"
   ]
  },
  {
   "cell_type": "code",
   "execution_count": 12,
   "metadata": {},
   "outputs": [
    {
     "data": {
      "text/plain": [
       "469.0"
      ]
     },
     "execution_count": 12,
     "metadata": {},
     "output_type": "execute_result"
    }
   ],
   "source": [
    "len(states) / 3"
   ]
  },
  {
   "cell_type": "code",
   "execution_count": 14,
   "metadata": {},
   "outputs": [
    {
     "name": "stdout",
     "output_type": "stream",
     "text": [
      "{'an': '0', 'ap': '1', 'ar': '0', 'as': '0', 'br': '0', 'ch': '0', 'ct': '0', 'date': '14-Mar-20', 'dateymd': '2020-03-14', 'dd': '0', 'dl': '7', 'dn': '0', 'ga': '0', 'gj': '0', 'hp': '0', 'hr': '14', 'jh': '0', 'jk': '2', 'ka': '6', 'kl': '19', 'la': '0', 'ld': '0', 'mh': '14', 'ml': '0', 'mn': '0', 'mp': '0', 'mz': '0', 'nl': '0', 'or': '0', 'pb': '1', 'py': '0', 'rj': '3', 'sk': '0', 'status': 'Confirmed', 'tg': '1', 'tn': '1', 'tr': '0', 'tt': '81', 'un': '0', 'up': '12', 'ut': '0', 'wb': '0'}\n"
     ]
    }
   ],
   "source": [
    "print(states[0])"
   ]
  },
  {
   "cell_type": "code",
   "execution_count": 15,
   "metadata": {},
   "outputs": [
    {
     "name": "stdout",
     "output_type": "stream",
     "text": [
      "{'an': '0', 'ap': '38', 'ar': '3', 'as': '26', 'br': '3', 'ch': '0', 'ct': '8', 'date': '25-Jun-21', 'dateymd': '2021-06-25', 'dd': '0', 'dl': '4', 'dn': '0', 'ga': '5', 'gj': '3', 'hp': '2', 'hr': '18', 'jh': '1', 'jk': '7', 'ka': '114', 'kl': '118', 'la': '0', 'ld': '1', 'mh': '511', 'ml': '7', 'mn': '8', 'mp': '22', 'mz': '2', 'nl': '2', 'or': '40', 'pb': '12', 'py': '5', 'rj': '0', 'sk': '1', 'status': 'Deceased', 'tg': '11', 'tn': '150', 'tr': '2', 'tt': '1183', 'un': '0', 'up': '15', 'ut': '9', 'wb': '35'}\n"
     ]
    }
   ],
   "source": [
    "print(states[-1])"
   ]
  },
  {
   "cell_type": "code",
   "execution_count": 16,
   "metadata": {},
   "outputs": [],
   "source": [
    "confirmed = []\n",
    "recovered = []\n",
    "deceased = []"
   ]
  },
  {
   "cell_type": "code",
   "execution_count": 17,
   "metadata": {},
   "outputs": [],
   "source": [
    "for i in range(len(states)):\n",
    "    if states[i]['status'] == \"Confirmed\":\n",
    "        confirmed.append(states[i])\n",
    "    elif states[i]['status'] == 'Recovered':\n",
    "        recovered.append(states[i])\n",
    "    else:\n",
    "        deceased.append(states[i])"
   ]
  },
  {
   "cell_type": "code",
   "execution_count": 33,
   "metadata": {},
   "outputs": [
    {
     "data": {
      "text/plain": [
       "(469, 469, 469)"
      ]
     },
     "execution_count": 33,
     "metadata": {},
     "output_type": "execute_result"
    }
   ],
   "source": [
    "len(confirmed), len(recovered), len(deceased)"
   ]
  },
  {
   "cell_type": "code",
   "execution_count": 20,
   "metadata": {},
   "outputs": [
    {
     "name": "stdout",
     "output_type": "stream",
     "text": [
      "{'an': '1', 'ap': '4458', 'ar': '266', 'as': '2793', 'br': '207', 'ch': '39', 'ct': '293', 'date': '25-Jun-21', 'dateymd': '2021-06-25', 'dd': '0', 'dl': '115', 'dn': '4', 'ga': '222', 'gj': '123', 'hp': '153', 'hr': '140', 'jh': '133', 'jk': '498', 'ka': '3310', 'kl': '11546', 'la': '17', 'ld': '31', 'mh': '9604', 'ml': '602', 'mn': '585', 'mp': '50', 'mz': '224', 'nl': '130', 'or': '2912', 'pb': '338', 'py': '261', 'rj': '131', 'sk': '130', 'status': 'Confirmed', 'tg': '1061', 'tn': '5755', 'tr': '369', 'tt': '48768', 'un': '0', 'up': '206', 'ut': '128', 'wb': '1933'}\n"
     ]
    }
   ],
   "source": [
    "print(confirmed[-1])"
   ]
  },
  {
   "cell_type": "code",
   "execution_count": 30,
   "metadata": {},
   "outputs": [
    {
     "data": {
      "text/plain": [
       "'7'"
      ]
     },
     "execution_count": 30,
     "metadata": {},
     "output_type": "execute_result"
    }
   ],
   "source": [
    "confirmed[0]['dl']"
   ]
  },
  {
   "cell_type": "code",
   "execution_count": 25,
   "metadata": {},
   "outputs": [],
   "source": [
    "state = \"mh\"\n",
    "number_of_cases = 0\n",
    "for i in range(len(confirmed)):\n",
    "    cases = confirmed[i][state]\n",
    "    number_of_cases += int(cases)"
   ]
  },
  {
   "cell_type": "code",
   "execution_count": 26,
   "metadata": {},
   "outputs": [
    {
     "data": {
      "text/plain": [
       "6017035"
      ]
     },
     "execution_count": 26,
     "metadata": {},
     "output_type": "execute_result"
    }
   ],
   "source": [
    "number_of_cases"
   ]
  },
  {
   "cell_type": "code",
   "execution_count": 28,
   "metadata": {},
   "outputs": [],
   "source": [
    "# state = \"mh\"\n",
    "# number_of_cases = 0\n",
    "# for i in range(len(confirmed)):\n",
    "#     cases = confirmed[i][state]\n",
    "#     print(cases, end=\",\")"
   ]
  },
  {
   "cell_type": "code",
   "execution_count": 31,
   "metadata": {},
   "outputs": [],
   "source": [
    "state = \"mh\"\n",
    "number_of_cases = 0\n",
    "for i in range(len(confirmed)):\n",
    "    conf_cases = confirmed[i][state]\n",
    "    recv_cases = recovered[i][state]\n",
    "    dece_cases = deceased[i][state]\n",
    "    number_of_cases += int(conf_cases) + int(recv_cases) + int(dece_cases)"
   ]
  },
  {
   "cell_type": "code",
   "execution_count": 32,
   "metadata": {},
   "outputs": [
    {
     "data": {
      "text/plain": [
       "11910203"
      ]
     },
     "execution_count": 32,
     "metadata": {},
     "output_type": "execute_result"
    }
   ],
   "source": [
    "number_of_cases"
   ]
  },
  {
   "cell_type": "code",
   "execution_count": null,
   "metadata": {},
   "outputs": [],
   "source": []
  }
 ],
 "metadata": {
  "kernelspec": {
   "display_name": "Python 3",
   "language": "python",
   "name": "python3"
  },
  "language_info": {
   "codemirror_mode": {
    "name": "ipython",
    "version": 3
   },
   "file_extension": ".py",
   "mimetype": "text/x-python",
   "name": "python",
   "nbconvert_exporter": "python",
   "pygments_lexer": "ipython3",
   "version": "3.8.5"
  }
 },
 "nbformat": 4,
 "nbformat_minor": 4
}
