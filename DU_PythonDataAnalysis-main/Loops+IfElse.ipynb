{
 "cells": [
  {
   "cell_type": "markdown",
   "metadata": {},
   "source": [
    "### If Else and Loops "
   ]
  },
  {
   "cell_type": "code",
   "execution_count": 1,
   "metadata": {},
   "outputs": [],
   "source": [
    "# Loops\n",
    "# - for\n",
    "# - while"
   ]
  },
  {
   "cell_type": "code",
   "execution_count": 4,
   "metadata": {},
   "outputs": [],
   "source": [
    "# print(5 * 1)\n",
    "# print(5 * 2)\n",
    "# print(5 * 3)\n",
    "# print(5 * 4)\n",
    "# print(5 * 5)"
   ]
  },
  {
   "cell_type": "code",
   "execution_count": 5,
   "metadata": {},
   "outputs": [
    {
     "name": "stdout",
     "output_type": "stream",
     "text": [
      "0\n",
      "1\n",
      "2\n",
      "3\n",
      "4\n",
      "5\n"
     ]
    }
   ],
   "source": [
    "# for - when you know the number of iterations\n",
    "\n",
    "# start - starting point of loop, by default = 0\n",
    "# stop  - ending point of loop, by default = n - 1\n",
    "# step  - how many steps you want to take in each iteration, by default = +1\n",
    "for i in range(6):print(i)"
   ]
  },
  {
   "cell_type": "code",
   "execution_count": 10,
   "metadata": {},
   "outputs": [
    {
     "name": "stdout",
     "output_type": "stream",
     "text": [
      "1\n",
      "2\n",
      "3\n",
      "4\n",
      "5\n",
      "6\n",
      "7\n",
      "8\n",
      "9\n",
      "10\n",
      "Bye\n"
     ]
    }
   ],
   "source": [
    "# by default Python takes 4 spaces from left\n",
    "for i in range(1,11):\n",
    "    print(i)\n",
    "    #print(\"hello\")\n",
    "\n",
    "print(\"Bye\")"
   ]
  },
  {
   "cell_type": "code",
   "execution_count": 12,
   "metadata": {},
   "outputs": [
    {
     "name": "stdout",
     "output_type": "stream",
     "text": [
      "15\n",
      "30\n",
      "45\n",
      "60\n",
      "75\n",
      "90\n",
      "105\n",
      "120\n",
      "135\n",
      "150\n"
     ]
    }
   ],
   "source": [
    "for i in range(1,11):\n",
    "    print(15 * i)"
   ]
  },
  {
   "cell_type": "code",
   "execution_count": 13,
   "metadata": {},
   "outputs": [
    {
     "name": "stdout",
     "output_type": "stream",
     "text": [
      "7 x 1 = 7\n",
      "7 x 2 = 14\n",
      "7 x 3 = 21\n",
      "7 x 4 = 28\n",
      "7 x 5 = 35\n",
      "7 x 6 = 42\n",
      "7 x 7 = 49\n",
      "7 x 8 = 56\n",
      "7 x 9 = 63\n",
      "7 x 10 = 70\n"
     ]
    }
   ],
   "source": [
    "n = 7\n",
    "for i in range(1,11):\n",
    "    print(\"{} x {} = {}\".format(n, i, n * i))"
   ]
  },
  {
   "cell_type": "code",
   "execution_count": 14,
   "metadata": {},
   "outputs": [],
   "source": [
    "# while loop\n",
    "# - used when we are not aware of a range\n",
    "# - when a loop depends on some sort of a condition"
   ]
  },
  {
   "cell_type": "code",
   "execution_count": 17,
   "metadata": {},
   "outputs": [
    {
     "name": "stdout",
     "output_type": "stream",
     "text": [
      "10\n",
      "9\n",
      "8\n",
      "7\n",
      "6\n",
      "5\n",
      "4\n",
      "3\n",
      "2\n",
      "1\n"
     ]
    }
   ],
   "source": [
    "a = 10\n",
    "while a > 0:\n",
    "    print(a)\n",
    "    #a = a - 1\n",
    "    a -= 1"
   ]
  },
  {
   "cell_type": "code",
   "execution_count": null,
   "metadata": {},
   "outputs": [],
   "source": []
  },
  {
   "cell_type": "code",
   "execution_count": 18,
   "metadata": {},
   "outputs": [
    {
     "name": "stdout",
     "output_type": "stream",
     "text": [
      "Enter your message : hello\n",
      "Hello User...\n"
     ]
    }
   ],
   "source": [
    "# chatbots\n",
    "\n",
    "msg = input(\"Enter your message : \")\n",
    "\n",
    "if msg == \"hello\":\n",
    "    print(\"Hello User...\")\n",
    "else:\n",
    "    print(\"I don't Understand...\")"
   ]
  },
  {
   "cell_type": "code",
   "execution_count": 22,
   "metadata": {},
   "outputs": [
    {
     "name": "stdout",
     "output_type": "stream",
     "text": [
      "Enter your message : hi\n",
      "Hello User...\n"
     ]
    }
   ],
   "source": [
    "# chatbots\n",
    "\n",
    "msg = input(\"Enter your message : \")\n",
    "\n",
    "if msg == \"hello\" or msg == \"hi\" or msg == \"hey\" or msg == \"hi there\" or msg == \"hey there\":\n",
    "    print(\"Hello User...\")\n",
    "elif msg == \"bye\":\n",
    "    print(\"Bye User...\")\n",
    "else:\n",
    "    print(\"I don't Understand...\")"
   ]
  },
  {
   "cell_type": "code",
   "execution_count": 25,
   "metadata": {},
   "outputs": [
    {
     "name": "stdout",
     "output_type": "stream",
     "text": [
      "Enter your message : hi\n",
      "Hello User...\n",
      "Enter your message : hello\n",
      "Hello User...\n",
      "Enter your message : hey\n",
      "Hello User...\n",
      "Enter your message : hello there\n",
      "Hello User...\n",
      "Enter your message : bye\n",
      "Bye User...\n"
     ]
    }
   ],
   "source": [
    "# chatbots\n",
    "\n",
    "chat = True\n",
    "while chat:\n",
    "    msg = input(\"Enter your message : \")\n",
    "\n",
    "    helloIntent = [\"hi\",\"hello\",\"hey\",\"hi there\",\"hello there\",\"hey there\"]\n",
    "\n",
    "    if msg in helloIntent :\n",
    "        print(\"Hello User...\")\n",
    "    elif msg == \"bye\":\n",
    "        print(\"Bye User...\")\n",
    "        chat = False\n",
    "        #break\n",
    "    else:\n",
    "        print(\"I don't Understand...\")"
   ]
  },
  {
   "cell_type": "code",
   "execution_count": 26,
   "metadata": {},
   "outputs": [
    {
     "name": "stdout",
     "output_type": "stream",
     "text": [
      "Enter your message : hi\n",
      "Hello User...\n",
      "Enter your message : hello\n",
      "Hello User...\n",
      "Enter your message : time\n",
      "18:21:52, PM\n",
      "Enter your message : date\n",
      "24-Jun-21,Thu\n",
      "Enter your message : bye\n",
      "Bye User...\n"
     ]
    }
   ],
   "source": [
    "from datetime import datetime as dt\n",
    "\n",
    "# chatbots\n",
    "helloIntent = [\"hi\",\"hello\",\"hey\",\"hi there\",\"hello there\",\"hey there\"]\n",
    "dateIntent = [\"date\",\"tell me date\",\"what's the date\"]\n",
    "timeIntent = [\"time\",\"tell me time\",\"please tell me time\",\"what's the time\"]\n",
    "musicIntent = [\"play song\",\"play music\",\"start a song\",\"song\",\"music\"]\n",
    "\n",
    "chat = True\n",
    "while chat:\n",
    "    msg = input(\"Enter your message : \")\n",
    "\n",
    "    if msg in helloIntent :\n",
    "        print(\"Hello User...\")\n",
    "    elif msg in dateIntent:\n",
    "        d = dt.now().date()\n",
    "        print(d.strftime(\"%d-%b-%y,%a\"))\n",
    "    elif msg in timeIntent:\n",
    "        t = dt.now().time()\n",
    "        print(t.strftime(\"%H:%M:%S, %p\"))\n",
    "    elif msg == \"bye\":\n",
    "        print(\"Bye User...\")\n",
    "        chat = False\n",
    "        #break\n",
    "    else:\n",
    "        print(\"I don't Understand...\")"
   ]
  },
  {
   "cell_type": "code",
   "execution_count": 1,
   "metadata": {},
   "outputs": [
    {
     "name": "stdout",
     "output_type": "stream",
     "text": [
      "Enter your message : hi\n",
      "Hello User...\n",
      "Enter your message : hello\n",
      "Hello User...\n",
      "Enter your message : date\n",
      "25-Jun-21,Fri\n",
      "Enter your message : music\n",
      "Enter your message : bye\n",
      "Bye User...\n"
     ]
    }
   ],
   "source": [
    "from datetime import datetime as dt\n",
    "import random, os, glob\n",
    "\n",
    "# chatbots\n",
    "helloIntent = [\"hi\",\"hello\",\"hey\",\"hi there\",\"hello there\",\"hey there\"]\n",
    "dateIntent = [\"date\",\"tell me date\",\"what's the date\"]\n",
    "timeIntent = [\"time\",\"tell me time\",\"please tell me time\",\"what's the time\"]\n",
    "musicIntent = [\"play song\",\"play music\",\"start a song\",\"song\",\"music\"]\n",
    "\n",
    "chat = True\n",
    "while chat:\n",
    "    msg = input(\"Enter your message : \")\n",
    "\n",
    "    if msg in helloIntent :\n",
    "        print(\"Hello User...\")\n",
    "    elif msg in dateIntent:\n",
    "        d = dt.now().date()\n",
    "        print(d.strftime(\"%d-%b-%y,%a\"))\n",
    "    elif msg in timeIntent:\n",
    "        t = dt.now().time()\n",
    "        print(t.strftime(\"%H:%M:%S, %p\"))\n",
    "    elif msg in musicIntent:\n",
    "        os.chdir(r\"F:\\DIT_DSA\\Group_4\\Songs\")\n",
    "        songs = glob.glob(\"*.mp3\")\n",
    "        song = random.choice(songs)\n",
    "        os.startfile(song)\n",
    "    elif msg == \"bye\":\n",
    "        print(\"Bye User...\")\n",
    "        chat = False\n",
    "        #break\n",
    "    else:\n",
    "        print(\"I don't Understand...\")"
   ]
  },
  {
   "cell_type": "code",
   "execution_count": null,
   "metadata": {},
   "outputs": [],
   "source": []
  }
 ],
 "metadata": {
  "kernelspec": {
   "display_name": "Python 3",
   "language": "python",
   "name": "python3"
  },
  "language_info": {
   "codemirror_mode": {
    "name": "ipython",
    "version": 3
   },
   "file_extension": ".py",
   "mimetype": "text/x-python",
   "name": "python",
   "nbconvert_exporter": "python",
   "pygments_lexer": "ipython3",
   "version": "3.8.5"
  }
 },
 "nbformat": 4,
 "nbformat_minor": 4
}
