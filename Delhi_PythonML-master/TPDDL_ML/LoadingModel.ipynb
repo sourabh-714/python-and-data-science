{
 "cells": [
  {
   "cell_type": "code",
   "execution_count": 3,
   "metadata": {},
   "outputs": [],
   "source": [
    "import numpy as np\n",
    "import pickle as pkl"
   ]
  },
  {
   "cell_type": "code",
   "execution_count": 4,
   "metadata": {},
   "outputs": [],
   "source": [
    "newCons = 'Yes'\n",
    "waterfront = 'No'\n",
    "centralAir = 'Yes'\n",
    "sewer_test = 'septic'\n",
    "fuel_test = 'gas'\n",
    "heating_test = 'electric'"
   ]
  },
  {
   "cell_type": "code",
   "execution_count": 6,
   "metadata": {},
   "outputs": [],
   "source": [
    "def load_pkl(file_name):\n",
    "    file = open(file_name,'rb')\n",
    "    data = pkl.load(file)\n",
    "    file.close()\n",
    "    return data"
   ]
  },
  {
   "cell_type": "code",
   "execution_count": 7,
   "metadata": {},
   "outputs": [],
   "source": [
    "model = load_pkl('model.pkl')\n",
    "lab = load_pkl('label_encoder.pkl')\n",
    "sewer = load_pkl('sewer.pkl')\n",
    "fuel = load_pkl('fuel.pkl')\n",
    "heat = load_pkl('heat.pkl')"
   ]
  },
  {
   "cell_type": "code",
   "execution_count": 8,
   "metadata": {},
   "outputs": [
    {
     "data": {
      "text/plain": [
       "array([[25503.01031664]])"
      ]
     },
     "execution_count": 8,
     "metadata": {},
     "output_type": "execute_result"
    }
   ],
   "source": [
    "newCons = lab.transform([newCons])[0]\n",
    "waterfront = lab.transform([waterfront])[0]\n",
    "centralAir = lab.transform([centralAir])[0]\n",
    "sewer = sewer.transform([[sewer_test]]).toarray()\n",
    "fuel = fuel.transform([[fuel_test]]).toarray()\n",
    "heat = heat.transform([[heating_test]]).toarray()\n",
    "\n",
    "test_x = np.array([[0.09,38,50000,906,35,2,2,2.0,2,waterfront,newCons,centralAir]])\n",
    "test_x = np.c_[test_x, sewer, fuel, heat]\n",
    "\n",
    "model.predict(test_x)"
   ]
  },
  {
   "cell_type": "code",
   "execution_count": null,
   "metadata": {},
   "outputs": [],
   "source": []
  },
  {
   "cell_type": "code",
   "execution_count": null,
   "metadata": {},
   "outputs": [],
   "source": []
  }
 ],
 "metadata": {
  "kernelspec": {
   "display_name": "Python 3",
   "language": "python",
   "name": "python3"
  },
  "language_info": {
   "codemirror_mode": {
    "name": "ipython",
    "version": 3
   },
   "file_extension": ".py",
   "mimetype": "text/x-python",
   "name": "python",
   "nbconvert_exporter": "python",
   "pygments_lexer": "ipython3",
   "version": "3.7.4"
  }
 },
 "nbformat": 4,
 "nbformat_minor": 4
}
