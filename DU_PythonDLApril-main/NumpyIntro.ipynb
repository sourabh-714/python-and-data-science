{
  "nbformat": 4,
  "nbformat_minor": 0,
  "metadata": {
    "colab": {
      "name": "NumpyIntro.ipynb",
      "provenance": [],
      "authorship_tag": "ABX9TyMmQ3XaG6HWPcqyiz5kODGI",
      "include_colab_link": true
    },
    "kernelspec": {
      "name": "python3",
      "display_name": "Python 3"
    },
    "language_info": {
      "name": "python"
    }
  },
  "cells": [
    {
      "cell_type": "markdown",
      "metadata": {
        "id": "view-in-github",
        "colab_type": "text"
      },
      "source": [
        "<a href=\"https://colab.research.google.com/github/brainmentorspvtltd/DU_PythonDLApril/blob/main/NumpyIntro.ipynb\" target=\"_parent\"><img src=\"https://colab.research.google.com/assets/colab-badge.svg\" alt=\"Open In Colab\"/></a>"
      ]
    },
    {
      "cell_type": "code",
      "metadata": {
        "id": "5b2CPrrzOK4_"
      },
      "source": [
        "import numpy as np"
      ],
      "execution_count": null,
      "outputs": []
    },
    {
      "cell_type": "code",
      "metadata": {
        "id": "LAuIv57SOXu4"
      },
      "source": [
        "#shift+enter = to execute a cell"
      ],
      "execution_count": null,
      "outputs": []
    },
    {
      "cell_type": "code",
      "metadata": {
        "colab": {
          "base_uri": "https://localhost:8080/"
        },
        "id": "lXf0usmeOcvx",
        "outputId": "dcbcc619-2697-44b4-b36a-5c7a1edcc402"
      },
      "source": [
        "np.array([3,4,3,2,5,7,8,5,12,45,67,1])"
      ],
      "execution_count": null,
      "outputs": [
        {
          "output_type": "execute_result",
          "data": {
            "text/plain": [
              "array([ 3,  4,  3,  2,  5,  7,  8,  5, 12, 45, 67,  1])"
            ]
          },
          "metadata": {
            "tags": []
          },
          "execution_count": 3
        }
      ]
    },
    {
      "cell_type": "code",
      "metadata": {
        "colab": {
          "base_uri": "https://localhost:8080/"
        },
        "id": "Jlf38Wf8OhoF",
        "outputId": "f2944996-6247-4ab3-8655-ab4a190b7a88"
      },
      "source": [
        "np.array([3,4,3,2,5,7,8,5,12,45,67,1,34.33])"
      ],
      "execution_count": null,
      "outputs": [
        {
          "output_type": "execute_result",
          "data": {
            "text/plain": [
              "array([ 3.  ,  4.  ,  3.  ,  2.  ,  5.  ,  7.  ,  8.  ,  5.  , 12.  ,\n",
              "       45.  , 67.  ,  1.  , 34.33])"
            ]
          },
          "metadata": {
            "tags": []
          },
          "execution_count": 4
        }
      ]
    },
    {
      "cell_type": "code",
      "metadata": {
        "colab": {
          "base_uri": "https://localhost:8080/"
        },
        "id": "ac-FxVJwOt_M",
        "outputId": "fa72c939-c400-49ed-adfc-debeca7d4186"
      },
      "source": [
        "np.array([[5,4,4,76],[1,3,4,2],[6,5,7,8]])"
      ],
      "execution_count": null,
      "outputs": [
        {
          "output_type": "execute_result",
          "data": {
            "text/plain": [
              "array([[ 5,  4,  4, 76],\n",
              "       [ 1,  3,  4,  2],\n",
              "       [ 6,  5,  7,  8]])"
            ]
          },
          "metadata": {
            "tags": []
          },
          "execution_count": 5
        }
      ]
    },
    {
      "cell_type": "code",
      "metadata": {
        "id": "dvTGMgwgO47W"
      },
      "source": [
        "x = np.array([[5,4,4,76],[1,3,4,2],[6,5,7,8]])"
      ],
      "execution_count": null,
      "outputs": []
    },
    {
      "cell_type": "code",
      "metadata": {
        "colab": {
          "base_uri": "https://localhost:8080/"
        },
        "id": "TyfhhGdCO7Zw",
        "outputId": "e0804ee3-3c0f-4e33-ef16-91e46475993a"
      },
      "source": [
        "x"
      ],
      "execution_count": null,
      "outputs": [
        {
          "output_type": "execute_result",
          "data": {
            "text/plain": [
              "array([[ 5,  4,  4, 76],\n",
              "       [ 1,  3,  4,  2],\n",
              "       [ 6,  5,  7,  8]])"
            ]
          },
          "metadata": {
            "tags": []
          },
          "execution_count": 7
        }
      ]
    },
    {
      "cell_type": "code",
      "metadata": {
        "id": "1LeK-GicO70p"
      },
      "source": [
        "# convert 2d to 1d\n",
        "x = x.flatten()"
      ],
      "execution_count": null,
      "outputs": []
    },
    {
      "cell_type": "code",
      "metadata": {
        "colab": {
          "base_uri": "https://localhost:8080/"
        },
        "id": "R0xYGixRO-_f",
        "outputId": "99f2e7e1-aa2d-4db5-9290-1bb7c57fa337"
      },
      "source": [
        "x"
      ],
      "execution_count": null,
      "outputs": [
        {
          "output_type": "execute_result",
          "data": {
            "text/plain": [
              "array([ 5,  4,  4, 76,  1,  3,  4,  2,  6,  5,  7,  8])"
            ]
          },
          "metadata": {
            "tags": []
          },
          "execution_count": 9
        }
      ]
    },
    {
      "cell_type": "code",
      "metadata": {
        "colab": {
          "base_uri": "https://localhost:8080/"
        },
        "id": "Lwya32iAO_X0",
        "outputId": "d2a21233-94ed-448b-8d27-b377461a0c54"
      },
      "source": [
        "len(x)"
      ],
      "execution_count": null,
      "outputs": [
        {
          "output_type": "execute_result",
          "data": {
            "text/plain": [
              "12"
            ]
          },
          "metadata": {
            "tags": []
          },
          "execution_count": 10
        }
      ]
    },
    {
      "cell_type": "code",
      "metadata": {
        "colab": {
          "base_uri": "https://localhost:8080/"
        },
        "id": "aft9R5MnPDe5",
        "outputId": "34b86c5e-b31a-45df-feef-f450ecc38349"
      },
      "source": [
        "x.reshape(3,4)"
      ],
      "execution_count": null,
      "outputs": [
        {
          "output_type": "execute_result",
          "data": {
            "text/plain": [
              "array([[ 5,  4,  4, 76],\n",
              "       [ 1,  3,  4,  2],\n",
              "       [ 6,  5,  7,  8]])"
            ]
          },
          "metadata": {
            "tags": []
          },
          "execution_count": 11
        }
      ]
    },
    {
      "cell_type": "code",
      "metadata": {
        "colab": {
          "base_uri": "https://localhost:8080/"
        },
        "id": "IYBtpheuPJuN",
        "outputId": "d083db9b-a735-4f75-96b5-bc6845cef345"
      },
      "source": [
        "x.reshape(4,3)"
      ],
      "execution_count": null,
      "outputs": [
        {
          "output_type": "execute_result",
          "data": {
            "text/plain": [
              "array([[ 5,  4,  4],\n",
              "       [76,  1,  3],\n",
              "       [ 4,  2,  6],\n",
              "       [ 5,  7,  8]])"
            ]
          },
          "metadata": {
            "tags": []
          },
          "execution_count": 12
        }
      ]
    },
    {
      "cell_type": "code",
      "metadata": {
        "colab": {
          "base_uri": "https://localhost:8080/"
        },
        "id": "49zyuwAYPLbb",
        "outputId": "e53cd74d-c307-4049-cec7-a26e12067fdc"
      },
      "source": [
        "x.reshape(-1,4)"
      ],
      "execution_count": null,
      "outputs": [
        {
          "output_type": "execute_result",
          "data": {
            "text/plain": [
              "array([[ 5,  4,  4, 76],\n",
              "       [ 1,  3,  4,  2],\n",
              "       [ 6,  5,  7,  8]])"
            ]
          },
          "metadata": {
            "tags": []
          },
          "execution_count": 13
        }
      ]
    },
    {
      "cell_type": "code",
      "metadata": {
        "colab": {
          "base_uri": "https://localhost:8080/"
        },
        "id": "3FlOgj3qPRD_",
        "outputId": "d704d3aa-4a84-4051-842c-60dfbd149be9"
      },
      "source": [
        "x[0]"
      ],
      "execution_count": null,
      "outputs": [
        {
          "output_type": "execute_result",
          "data": {
            "text/plain": [
              "5"
            ]
          },
          "metadata": {
            "tags": []
          },
          "execution_count": 14
        }
      ]
    },
    {
      "cell_type": "code",
      "metadata": {
        "colab": {
          "base_uri": "https://localhost:8080/"
        },
        "id": "W_prwoPLPcN2",
        "outputId": "73d22eca-c64e-4e88-e506-068732c09932"
      },
      "source": [
        "x[5]"
      ],
      "execution_count": null,
      "outputs": [
        {
          "output_type": "execute_result",
          "data": {
            "text/plain": [
              "3"
            ]
          },
          "metadata": {
            "tags": []
          },
          "execution_count": 15
        }
      ]
    },
    {
      "cell_type": "code",
      "metadata": {
        "colab": {
          "base_uri": "https://localhost:8080/"
        },
        "id": "wITFmAwjPdFh",
        "outputId": "f7a7c733-9c17-4820-c640-c93341bda8e7"
      },
      "source": [
        "# last index\n",
        "x[-1]"
      ],
      "execution_count": null,
      "outputs": [
        {
          "output_type": "execute_result",
          "data": {
            "text/plain": [
              "8"
            ]
          },
          "metadata": {
            "tags": []
          },
          "execution_count": 16
        }
      ]
    },
    {
      "cell_type": "code",
      "metadata": {
        "colab": {
          "base_uri": "https://localhost:8080/"
        },
        "id": "rXSGGm5jPeuz",
        "outputId": "aaf40ec0-7107-4d34-8e3f-f0384b67b363"
      },
      "source": [
        "x[0:4]"
      ],
      "execution_count": null,
      "outputs": [
        {
          "output_type": "execute_result",
          "data": {
            "text/plain": [
              "array([ 5,  4,  4, 76])"
            ]
          },
          "metadata": {
            "tags": []
          },
          "execution_count": 17
        }
      ]
    },
    {
      "cell_type": "code",
      "metadata": {
        "colab": {
          "base_uri": "https://localhost:8080/"
        },
        "id": "hmSZ9J0PPlHJ",
        "outputId": "371b3e4b-ddbf-482e-98b1-7bc9db5ac11e"
      },
      "source": [
        "x[4:]"
      ],
      "execution_count": null,
      "outputs": [
        {
          "output_type": "execute_result",
          "data": {
            "text/plain": [
              "array([1, 3, 4, 2, 6, 5, 7, 8])"
            ]
          },
          "metadata": {
            "tags": []
          },
          "execution_count": 18
        }
      ]
    },
    {
      "cell_type": "code",
      "metadata": {
        "id": "li1qFvubPnhb"
      },
      "source": [
        "x = x.reshape(4,3)"
      ],
      "execution_count": null,
      "outputs": []
    },
    {
      "cell_type": "code",
      "metadata": {
        "colab": {
          "base_uri": "https://localhost:8080/"
        },
        "id": "BdLvo3WwPuZ_",
        "outputId": "03302076-c212-4abd-b0f4-819e46790cf4"
      },
      "source": [
        "x"
      ],
      "execution_count": null,
      "outputs": [
        {
          "output_type": "execute_result",
          "data": {
            "text/plain": [
              "array([[ 5,  4,  4],\n",
              "       [76,  1,  3],\n",
              "       [ 4,  2,  6],\n",
              "       [ 5,  7,  8]])"
            ]
          },
          "metadata": {
            "tags": []
          },
          "execution_count": 20
        }
      ]
    },
    {
      "cell_type": "code",
      "metadata": {
        "colab": {
          "base_uri": "https://localhost:8080/"
        },
        "id": "ohMZgh3NPuy2",
        "outputId": "9274e06d-7afd-4815-9ce9-78d96c4920f4"
      },
      "source": [
        "x[0]"
      ],
      "execution_count": null,
      "outputs": [
        {
          "output_type": "execute_result",
          "data": {
            "text/plain": [
              "array([5, 4, 4])"
            ]
          },
          "metadata": {
            "tags": []
          },
          "execution_count": 21
        }
      ]
    },
    {
      "cell_type": "code",
      "metadata": {
        "colab": {
          "base_uri": "https://localhost:8080/"
        },
        "id": "cyHWadpJP5pr",
        "outputId": "ff8064c0-8742-4865-ad75-9830eab7832d"
      },
      "source": [
        "x[0][0]"
      ],
      "execution_count": null,
      "outputs": [
        {
          "output_type": "execute_result",
          "data": {
            "text/plain": [
              "5"
            ]
          },
          "metadata": {
            "tags": []
          },
          "execution_count": 22
        }
      ]
    },
    {
      "cell_type": "code",
      "metadata": {
        "colab": {
          "base_uri": "https://localhost:8080/"
        },
        "id": "JAucPQUtP__s",
        "outputId": "ae227932-fa21-44a0-b4f7-5a28f535a7f7"
      },
      "source": [
        "x[:]"
      ],
      "execution_count": null,
      "outputs": [
        {
          "output_type": "execute_result",
          "data": {
            "text/plain": [
              "array([[ 5,  4,  4],\n",
              "       [76,  1,  3],\n",
              "       [ 4,  2,  6],\n",
              "       [ 5,  7,  8]])"
            ]
          },
          "metadata": {
            "tags": []
          },
          "execution_count": 23
        }
      ]
    },
    {
      "cell_type": "code",
      "metadata": {
        "colab": {
          "base_uri": "https://localhost:8080/"
        },
        "id": "qWqS5dmWQCwZ",
        "outputId": "da8bfb4e-a4ff-449e-f5b2-f0774262ad3e"
      },
      "source": [
        "x[0,2]"
      ],
      "execution_count": null,
      "outputs": [
        {
          "output_type": "execute_result",
          "data": {
            "text/plain": [
              "4"
            ]
          },
          "metadata": {
            "tags": []
          },
          "execution_count": 24
        }
      ]
    },
    {
      "cell_type": "code",
      "metadata": {
        "colab": {
          "base_uri": "https://localhost:8080/"
        },
        "id": "Qabnn5vlQFtE",
        "outputId": "39bc25d8-6223-47d4-a7ee-b27b0e5a1485"
      },
      "source": [
        "x[0,:]"
      ],
      "execution_count": null,
      "outputs": [
        {
          "output_type": "execute_result",
          "data": {
            "text/plain": [
              "array([5, 4, 4])"
            ]
          },
          "metadata": {
            "tags": []
          },
          "execution_count": 25
        }
      ]
    },
    {
      "cell_type": "code",
      "metadata": {
        "colab": {
          "base_uri": "https://localhost:8080/"
        },
        "id": "tiXJMNAQQLUj",
        "outputId": "276dc5a9-0995-49b3-f241-1acab1eb4ea1"
      },
      "source": [
        "x[:,0]"
      ],
      "execution_count": null,
      "outputs": [
        {
          "output_type": "execute_result",
          "data": {
            "text/plain": [
              "array([ 5, 76,  4,  5])"
            ]
          },
          "metadata": {
            "tags": []
          },
          "execution_count": 26
        }
      ]
    },
    {
      "cell_type": "code",
      "metadata": {
        "colab": {
          "base_uri": "https://localhost:8080/"
        },
        "id": "htaBcladQWOl",
        "outputId": "6d26f565-71b5-405f-d6a9-01fa6f7c2eae"
      },
      "source": [
        "x[:, [0,2]]"
      ],
      "execution_count": null,
      "outputs": [
        {
          "output_type": "execute_result",
          "data": {
            "text/plain": [
              "array([[ 5,  4],\n",
              "       [76,  3],\n",
              "       [ 4,  6],\n",
              "       [ 5,  8]])"
            ]
          },
          "metadata": {
            "tags": []
          },
          "execution_count": 27
        }
      ]
    },
    {
      "cell_type": "code",
      "metadata": {
        "colab": {
          "base_uri": "https://localhost:8080/"
        },
        "id": "1eQ-fT86QhGr",
        "outputId": "8b3382d9-9b50-44bc-947b-66ac185c8584"
      },
      "source": [
        "x[:, 0:2]"
      ],
      "execution_count": null,
      "outputs": [
        {
          "output_type": "execute_result",
          "data": {
            "text/plain": [
              "array([[ 5,  4],\n",
              "       [76,  1],\n",
              "       [ 4,  2],\n",
              "       [ 5,  7]])"
            ]
          },
          "metadata": {
            "tags": []
          },
          "execution_count": 28
        }
      ]
    },
    {
      "cell_type": "code",
      "metadata": {
        "colab": {
          "base_uri": "https://localhost:8080/"
        },
        "id": "6WMG94ERQjeO",
        "outputId": "f6f254fe-f142-4d49-8e7e-4f199c169d02"
      },
      "source": [
        "# transpose\n",
        "x.T"
      ],
      "execution_count": null,
      "outputs": [
        {
          "output_type": "execute_result",
          "data": {
            "text/plain": [
              "array([[ 5, 76,  4,  5],\n",
              "       [ 4,  1,  2,  7],\n",
              "       [ 4,  3,  6,  8]])"
            ]
          },
          "metadata": {
            "tags": []
          },
          "execution_count": 29
        }
      ]
    },
    {
      "cell_type": "code",
      "metadata": {
        "colab": {
          "base_uri": "https://localhost:8080/"
        },
        "id": "wie_h6YXRZCX",
        "outputId": "95b2708c-c151-43e3-9cdb-046e437ad287"
      },
      "source": [
        "x[:,1:2]"
      ],
      "execution_count": null,
      "outputs": [
        {
          "output_type": "execute_result",
          "data": {
            "text/plain": [
              "array([[4],\n",
              "       [1],\n",
              "       [2],\n",
              "       [7]])"
            ]
          },
          "metadata": {
            "tags": []
          },
          "execution_count": 31
        }
      ]
    },
    {
      "cell_type": "code",
      "metadata": {
        "colab": {
          "base_uri": "https://localhost:8080/"
        },
        "id": "UdB7JqUaRxnT",
        "outputId": "1d88bcca-557c-497a-d2fb-e0109504b77e"
      },
      "source": [
        "x[:][0]"
      ],
      "execution_count": null,
      "outputs": [
        {
          "output_type": "execute_result",
          "data": {
            "text/plain": [
              "array([5, 4, 4])"
            ]
          },
          "metadata": {
            "tags": []
          },
          "execution_count": 32
        }
      ]
    },
    {
      "cell_type": "code",
      "metadata": {
        "id": "Z9KnA6oySALW"
      },
      "source": [
        ""
      ],
      "execution_count": null,
      "outputs": []
    },
    {
      "cell_type": "code",
      "metadata": {
        "colab": {
          "base_uri": "https://localhost:8080/"
        },
        "id": "VlHwCQGBSDPn",
        "outputId": "28d8e220-19f0-4b08-ef02-f0360c95e9bf"
      },
      "source": [
        "x.shape"
      ],
      "execution_count": null,
      "outputs": [
        {
          "output_type": "execute_result",
          "data": {
            "text/plain": [
              "(4, 3)"
            ]
          },
          "metadata": {
            "tags": []
          },
          "execution_count": 34
        }
      ]
    },
    {
      "cell_type": "code",
      "metadata": {
        "id": "tfENMEwzSMQx"
      },
      "source": [
        "x1 = np.array([[3,2,14]])"
      ],
      "execution_count": null,
      "outputs": []
    },
    {
      "cell_type": "code",
      "metadata": {
        "colab": {
          "base_uri": "https://localhost:8080/"
        },
        "id": "UyG1vJ9jSQsf",
        "outputId": "c5efcb72-5184-44c3-c3ae-28819872ab9f"
      },
      "source": [
        "np.r_[x,x1]"
      ],
      "execution_count": null,
      "outputs": [
        {
          "output_type": "execute_result",
          "data": {
            "text/plain": [
              "array([[ 5,  4,  4],\n",
              "       [76,  1,  3],\n",
              "       [ 4,  2,  6],\n",
              "       [ 5,  7,  8],\n",
              "       [ 3,  2, 14]])"
            ]
          },
          "metadata": {
            "tags": []
          },
          "execution_count": 39
        }
      ]
    },
    {
      "cell_type": "code",
      "metadata": {
        "colab": {
          "base_uri": "https://localhost:8080/"
        },
        "id": "GMvdDWKNSUSo",
        "outputId": "21bdd9c0-6852-4571-fbd6-85708c82d942"
      },
      "source": [
        "x2 = np.array([[12],[56],[44],[33]])\n",
        "np.c_[x,x2]"
      ],
      "execution_count": null,
      "outputs": [
        {
          "output_type": "execute_result",
          "data": {
            "text/plain": [
              "array([[ 5,  4,  4, 12],\n",
              "       [76,  1,  3, 56],\n",
              "       [ 4,  2,  6, 44],\n",
              "       [ 5,  7,  8, 33]])"
            ]
          },
          "metadata": {
            "tags": []
          },
          "execution_count": 40
        }
      ]
    },
    {
      "cell_type": "code",
      "metadata": {
        "id": "H0IDuXgtSjiK"
      },
      "source": [
        "x = np.ones((5,5))"
      ],
      "execution_count": null,
      "outputs": []
    },
    {
      "cell_type": "code",
      "metadata": {
        "colab": {
          "base_uri": "https://localhost:8080/"
        },
        "id": "xIookHtYSs6x",
        "outputId": "1fc8ec28-b9ea-4537-85b4-f518d8b4b1e9"
      },
      "source": [
        "x * 5"
      ],
      "execution_count": null,
      "outputs": [
        {
          "output_type": "execute_result",
          "data": {
            "text/plain": [
              "array([[5., 5., 5., 5., 5.],\n",
              "       [5., 5., 5., 5., 5.],\n",
              "       [5., 5., 5., 5., 5.],\n",
              "       [5., 5., 5., 5., 5.],\n",
              "       [5., 5., 5., 5., 5.]])"
            ]
          },
          "metadata": {
            "tags": []
          },
          "execution_count": 43
        }
      ]
    },
    {
      "cell_type": "code",
      "metadata": {
        "colab": {
          "base_uri": "https://localhost:8080/"
        },
        "id": "WrTpfdvhSta4",
        "outputId": "a689efc9-c5cc-40a0-faf6-fbd8d82b75fd"
      },
      "source": [
        "np.random.random()"
      ],
      "execution_count": null,
      "outputs": [
        {
          "output_type": "execute_result",
          "data": {
            "text/plain": [
              "0.10381241700861932"
            ]
          },
          "metadata": {
            "tags": []
          },
          "execution_count": 44
        }
      ]
    },
    {
      "cell_type": "code",
      "metadata": {
        "colab": {
          "base_uri": "https://localhost:8080/"
        },
        "id": "jBghuu_RTOLB",
        "outputId": "32e90ecc-5c68-4a7e-b69a-320c2c6c4d2d"
      },
      "source": [
        "np.random.randint(1,100,5)"
      ],
      "execution_count": null,
      "outputs": [
        {
          "output_type": "execute_result",
          "data": {
            "text/plain": [
              "array([70, 27, 86, 75, 27])"
            ]
          },
          "metadata": {
            "tags": []
          },
          "execution_count": 45
        }
      ]
    },
    {
      "cell_type": "code",
      "metadata": {
        "id": "48ReKPNLTRLd"
      },
      "source": [
        "x = np.random.randint(1,100,(3,4))"
      ],
      "execution_count": null,
      "outputs": []
    },
    {
      "cell_type": "code",
      "metadata": {
        "colab": {
          "base_uri": "https://localhost:8080/"
        },
        "id": "ynCc9X4KTTpJ",
        "outputId": "670751d7-9e99-41cc-fb6a-42ffff404c1e"
      },
      "source": [
        "x"
      ],
      "execution_count": null,
      "outputs": [
        {
          "output_type": "execute_result",
          "data": {
            "text/plain": [
              "array([[51,  6,  2,  2],\n",
              "       [90, 29, 70, 97],\n",
              "       [ 2, 69, 45, 61]])"
            ]
          },
          "metadata": {
            "tags": []
          },
          "execution_count": 47
        }
      ]
    },
    {
      "cell_type": "code",
      "metadata": {
        "colab": {
          "base_uri": "https://localhost:8080/"
        },
        "id": "1x70om2WTUM_",
        "outputId": "0d219336-46e6-48ac-ad56-f4db93c60552"
      },
      "source": [
        "np.mean(x)"
      ],
      "execution_count": null,
      "outputs": [
        {
          "output_type": "execute_result",
          "data": {
            "text/plain": [
              "43.666666666666664"
            ]
          },
          "metadata": {
            "tags": []
          },
          "execution_count": 48
        }
      ]
    },
    {
      "cell_type": "code",
      "metadata": {
        "colab": {
          "base_uri": "https://localhost:8080/"
        },
        "id": "8mQ2HcSlTWk3",
        "outputId": "139d3d47-5b29-4718-87c5-226061ae8202"
      },
      "source": [
        "# row wise\n",
        "np.mean(x, axis=1)"
      ],
      "execution_count": null,
      "outputs": [
        {
          "output_type": "execute_result",
          "data": {
            "text/plain": [
              "array([15.25, 71.5 , 44.25])"
            ]
          },
          "metadata": {
            "tags": []
          },
          "execution_count": 50
        }
      ]
    },
    {
      "cell_type": "code",
      "metadata": {
        "colab": {
          "base_uri": "https://localhost:8080/"
        },
        "id": "T8gVXo3GTbI0",
        "outputId": "b0ba2181-1b33-4905-aa66-592c1e6509dc"
      },
      "source": [
        "# col wise\n",
        "np.mean(x, axis=0)"
      ],
      "execution_count": null,
      "outputs": [
        {
          "output_type": "execute_result",
          "data": {
            "text/plain": [
              "array([47.66666667, 34.66666667, 39.        , 53.33333333])"
            ]
          },
          "metadata": {
            "tags": []
          },
          "execution_count": 60
        }
      ]
    },
    {
      "cell_type": "code",
      "metadata": {
        "colab": {
          "base_uri": "https://localhost:8080/"
        },
        "id": "2ll_cuWBThBY",
        "outputId": "fd0d948f-e6b4-4f42-bb23-8b917ce41a17"
      },
      "source": [
        "np.mean(x[2])"
      ],
      "execution_count": null,
      "outputs": [
        {
          "output_type": "execute_result",
          "data": {
            "text/plain": [
              "44.25"
            ]
          },
          "metadata": {
            "tags": []
          },
          "execution_count": 54
        }
      ]
    },
    {
      "cell_type": "code",
      "metadata": {
        "colab": {
          "base_uri": "https://localhost:8080/"
        },
        "id": "0fs40sKXTvKI",
        "outputId": "f8e47bd6-824d-431f-a214-adaa4d12a431"
      },
      "source": [
        "np.mean(x[:, 0])"
      ],
      "execution_count": null,
      "outputs": [
        {
          "output_type": "execute_result",
          "data": {
            "text/plain": [
              "47.666666666666664"
            ]
          },
          "metadata": {
            "tags": []
          },
          "execution_count": 55
        }
      ]
    },
    {
      "cell_type": "code",
      "metadata": {
        "colab": {
          "base_uri": "https://localhost:8080/"
        },
        "id": "FMF5uT0CUQZ5",
        "outputId": "116909dc-7673-438a-aabd-0a36010784df"
      },
      "source": [
        "np.var(x)"
      ],
      "execution_count": null,
      "outputs": [
        {
          "output_type": "execute_result",
          "data": {
            "text/plain": [
              "1127.0555555555554"
            ]
          },
          "metadata": {
            "tags": []
          },
          "execution_count": 56
        }
      ]
    },
    {
      "cell_type": "code",
      "metadata": {
        "colab": {
          "base_uri": "https://localhost:8080/"
        },
        "id": "08n5I3MSUsyh",
        "outputId": "fac5fdfb-3b57-4204-ce99-a130155701a5"
      },
      "source": [
        "np.std(x)"
      ],
      "execution_count": null,
      "outputs": [
        {
          "output_type": "execute_result",
          "data": {
            "text/plain": [
              "33.571648091143146"
            ]
          },
          "metadata": {
            "tags": []
          },
          "execution_count": 57
        }
      ]
    },
    {
      "cell_type": "code",
      "metadata": {
        "id": "nBBqSkftUuK0"
      },
      "source": [
        ""
      ],
      "execution_count": null,
      "outputs": []
    }
  ]
}