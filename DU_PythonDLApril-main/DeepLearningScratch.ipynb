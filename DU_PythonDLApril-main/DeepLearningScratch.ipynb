{
  "nbformat": 4,
  "nbformat_minor": 0,
  "metadata": {
    "colab": {
      "name": "DeepLearningScratch.ipynb",
      "provenance": [],
      "authorship_tag": "ABX9TyNOywtFBJG9/OEkg39U7T0n",
      "include_colab_link": true
    },
    "kernelspec": {
      "name": "python3",
      "display_name": "Python 3"
    },
    "language_info": {
      "name": "python"
    }
  },
  "cells": [
    {
      "cell_type": "markdown",
      "metadata": {
        "id": "view-in-github",
        "colab_type": "text"
      },
      "source": [
        "<a href=\"https://colab.research.google.com/github/brainmentorspvtltd/DU_PythonDLApril/blob/main/DeepLearningScratch.ipynb\" target=\"_parent\"><img src=\"https://colab.research.google.com/assets/colab-badge.svg\" alt=\"Open In Colab\"/></a>"
      ]
    },
    {
      "cell_type": "code",
      "metadata": {
        "id": "cT6aoauqObrl"
      },
      "source": [
        "import numpy as np"
      ],
      "execution_count": null,
      "outputs": []
    },
    {
      "cell_type": "code",
      "metadata": {
        "id": "kdc1mOh5QCs0"
      },
      "source": [
        "X = np.array([[1,0,1,0],[1,0,1,1],[0,1,0,1]])\n",
        "y = np.array([[1],[1],[0]])"
      ],
      "execution_count": null,
      "outputs": []
    },
    {
      "cell_type": "code",
      "metadata": {
        "colab": {
          "base_uri": "https://localhost:8080/"
        },
        "id": "uFW-YkZvQR85",
        "outputId": "ef1cd1cb-25ef-4c01-951e-2c650433eac4"
      },
      "source": [
        "X"
      ],
      "execution_count": null,
      "outputs": [
        {
          "output_type": "execute_result",
          "data": {
            "text/plain": [
              "array([[1, 0, 1, 0],\n",
              "       [1, 0, 1, 1],\n",
              "       [0, 1, 0, 1]])"
            ]
          },
          "metadata": {
            "tags": []
          },
          "execution_count": 3
        }
      ]
    },
    {
      "cell_type": "code",
      "metadata": {
        "colab": {
          "base_uri": "https://localhost:8080/"
        },
        "id": "KVGixLSjQTCj",
        "outputId": "2dc1c5a2-deeb-47d8-bf9c-00f1547a0144"
      },
      "source": [
        "y"
      ],
      "execution_count": null,
      "outputs": [
        {
          "output_type": "execute_result",
          "data": {
            "text/plain": [
              "array([[1],\n",
              "       [1],\n",
              "       [0]])"
            ]
          },
          "metadata": {
            "tags": []
          },
          "execution_count": 4
        }
      ]
    },
    {
      "cell_type": "code",
      "metadata": {
        "colab": {
          "base_uri": "https://localhost:8080/"
        },
        "id": "S-kMpK8mRsEQ",
        "outputId": "3a371f9b-8292-4551-f2f3-dd644d33ce84"
      },
      "source": [
        "X.shape"
      ],
      "execution_count": null,
      "outputs": [
        {
          "output_type": "execute_result",
          "data": {
            "text/plain": [
              "(3, 4)"
            ]
          },
          "metadata": {
            "tags": []
          },
          "execution_count": 5
        }
      ]
    },
    {
      "cell_type": "code",
      "metadata": {
        "id": "mxDbXdt3QUya"
      },
      "source": [
        "input_neurons = X.shape[1]\n",
        "hidden_neurons = 3\n",
        "output_neurons = 1"
      ],
      "execution_count": null,
      "outputs": []
    },
    {
      "cell_type": "code",
      "metadata": {
        "colab": {
          "base_uri": "https://localhost:8080/"
        },
        "id": "q7xsB4LWR7qm",
        "outputId": "61ffde8d-f53c-41c0-807e-31513d464568"
      },
      "source": [
        "input_neurons"
      ],
      "execution_count": null,
      "outputs": [
        {
          "output_type": "execute_result",
          "data": {
            "text/plain": [
              "4"
            ]
          },
          "metadata": {
            "tags": []
          },
          "execution_count": 7
        }
      ]
    },
    {
      "cell_type": "code",
      "metadata": {
        "id": "VKtbZ405SEp2"
      },
      "source": [
        "wh = np.random.uniform(size=(input_neurons,hidden_neurons))\n",
        "bh = np.random.uniform(size=(1, hidden_neurons))\n",
        "wout = np.random.uniform(size=(hidden_neurons, output_neurons))\n",
        "bout = np.random.uniform(size=(1, output_neurons))"
      ],
      "execution_count": null,
      "outputs": []
    },
    {
      "cell_type": "code",
      "metadata": {
        "id": "mN-cQDeiTuXn"
      },
      "source": [
        "epochs = 20000\n",
        "alpha = 0.01"
      ],
      "execution_count": null,
      "outputs": []
    },
    {
      "cell_type": "code",
      "metadata": {
        "id": "1WGczV-IUuoS"
      },
      "source": [
        "# for feed forward we need sigmoid\n",
        "def sigmoid(x):\n",
        "  return 1 / (1 + np.exp(-x))\n",
        "\n",
        "# for backpropagation we need derivative of sigmoid\n",
        "def derivative_sigmoid(x):\n",
        "  return x * (1 - x)"
      ],
      "execution_count": null,
      "outputs": []
    },
    {
      "cell_type": "code",
      "metadata": {
        "id": "un2oa_9gVKO-"
      },
      "source": [
        "#feed forward\n",
        "z1 = np.dot(X, wh) + bh\n",
        "hidden_layer = sigmoid(z1)\n",
        "\n",
        "z2 = np.dot(hidden_layer, wout) + bout\n",
        "output_layer = sigmoid(z2)"
      ],
      "execution_count": null,
      "outputs": []
    },
    {
      "cell_type": "code",
      "metadata": {
        "colab": {
          "base_uri": "https://localhost:8080/"
        },
        "id": "M7k7M_1iWN8r",
        "outputId": "1aa6ffaa-464d-439b-c898-59780f5c6047"
      },
      "source": [
        "output_layer"
      ],
      "execution_count": null,
      "outputs": [
        {
          "output_type": "execute_result",
          "data": {
            "text/plain": [
              "array([[0.78647852],\n",
              "       [0.79985979],\n",
              "       [0.79476739]])"
            ]
          },
          "metadata": {
            "tags": []
          },
          "execution_count": 12
        }
      ]
    },
    {
      "cell_type": "code",
      "metadata": {
        "id": "c50UCm8wWWK4"
      },
      "source": [
        "# Back propagation\n",
        "error_output_layer = y - output_layer\n",
        "slope_output_layer = derivative_sigmoid(output_layer)\n",
        "delta_output_layer = error_output_layer * slope_output_layer"
      ],
      "execution_count": null,
      "outputs": []
    },
    {
      "cell_type": "code",
      "metadata": {
        "id": "hnGe2vLUZcR8"
      },
      "source": [
        "error_hidden_layer = delta_output_layer.dot(wout.T)\n",
        "slope_hidden_layer = derivative_sigmoid(hidden_layer)\n",
        "delta_hidden_layer = error_hidden_layer * slope_hidden_layer"
      ],
      "execution_count": null,
      "outputs": []
    },
    {
      "cell_type": "code",
      "metadata": {
        "id": "oJn76ldmZ3lp"
      },
      "source": [
        "wout += hidden_layer.T.dot(delta_output_layer) * alpha\n",
        "wh += X.T.dot(delta_hidden_layer) * alpha\n",
        "bout += np.sum(delta_output_layer) * alpha\n",
        "bh += np.sum(delta_hidden_layer) * alpha"
      ],
      "execution_count": null,
      "outputs": []
    },
    {
      "cell_type": "code",
      "metadata": {
        "id": "ZTfTUWUSbwLp"
      },
      "source": [
        "for i in range(epochs):\n",
        "  #feed forward\n",
        "  z1 = np.dot(X, wh) + bh\n",
        "  hidden_layer = sigmoid(z1)\n",
        "\n",
        "  z2 = np.dot(hidden_layer, wout) + bout\n",
        "  output_layer = sigmoid(z2)\n",
        "\n",
        "  # Back propagation\n",
        "  error_output_layer = y - output_layer\n",
        "  slope_output_layer = derivative_sigmoid(output_layer)\n",
        "  delta_output_layer = error_output_layer * slope_output_layer\n",
        "\n",
        "  error_hidden_layer = delta_output_layer.dot(wout.T)\n",
        "  slope_hidden_layer = derivative_sigmoid(hidden_layer)\n",
        "  delta_hidden_layer = error_hidden_layer * slope_hidden_layer\n",
        "\n",
        "  wout += hidden_layer.T.dot(delta_output_layer) * alpha\n",
        "  wh += X.T.dot(delta_hidden_layer) * alpha\n",
        "  bout += np.sum(delta_output_layer) * alpha\n",
        "  bh += np.sum(delta_hidden_layer) * alpha"
      ],
      "execution_count": null,
      "outputs": []
    },
    {
      "cell_type": "code",
      "metadata": {
        "colab": {
          "base_uri": "https://localhost:8080/"
        },
        "id": "IulWdmhAcCll",
        "outputId": "1ebc08ab-1e77-49a9-8dde-3b795e1caab8"
      },
      "source": [
        "output_layer"
      ],
      "execution_count": null,
      "outputs": [
        {
          "output_type": "execute_result",
          "data": {
            "text/plain": [
              "array([[0.95868604],\n",
              "       [0.93960412],\n",
              "       [0.08198208]])"
            ]
          },
          "metadata": {
            "tags": []
          },
          "execution_count": 37
        }
      ]
    },
    {
      "cell_type": "code",
      "metadata": {
        "colab": {
          "base_uri": "https://localhost:8080/"
        },
        "id": "KAW1OLKNcEkG",
        "outputId": "5ec3b26b-995c-494e-ed20-dfcd609ab0ed"
      },
      "source": [
        "error_output_layer"
      ],
      "execution_count": null,
      "outputs": [
        {
          "output_type": "execute_result",
          "data": {
            "text/plain": [
              "array([[ 0.04131396],\n",
              "       [ 0.06039588],\n",
              "       [-0.08198208]])"
            ]
          },
          "metadata": {
            "tags": []
          },
          "execution_count": 38
        }
      ]
    },
    {
      "cell_type": "code",
      "metadata": {
        "id": "3TpukE00cbYq"
      },
      "source": [
        ""
      ],
      "execution_count": null,
      "outputs": []
    }
  ]
}